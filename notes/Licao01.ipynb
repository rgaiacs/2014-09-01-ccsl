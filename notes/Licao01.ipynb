{
 "metadata": {
  "name": ""
 },
 "nbformat": 3,
 "nbformat_minor": 0,
 "worksheets": [
  {
   "cells": [
    {
     "cell_type": "markdown",
     "metadata": {},
     "source": [
      "## Introduca\u00e7\u00e3o a La\u00e7os\n",
      "\n",
      "La\u00e7os em ingl\u00eas \u00e9 conhecido como *loops*."
     ]
    },
    {
     "cell_type": "code",
     "collapsed": false,
     "input": [
      "lista = [\"a\", \"b\", \"c\", [1, 2, 3]]"
     ],
     "language": "python",
     "metadata": {},
     "outputs": [],
     "prompt_number": 12
    },
    {
     "cell_type": "code",
     "collapsed": false,
     "input": [
      "lista"
     ],
     "language": "python",
     "metadata": {},
     "outputs": [
      {
       "metadata": {},
       "output_type": "pyout",
       "prompt_number": 13,
       "text": [
        "['a', 'b', 'c', [1, 2, 3]]"
       ]
      }
     ],
     "prompt_number": 13
    },
    {
     "cell_type": "code",
     "collapsed": false,
     "input": [
      "print(lista)"
     ],
     "language": "python",
     "metadata": {},
     "outputs": [
      {
       "output_type": "stream",
       "stream": "stdout",
       "text": [
        "['a', 'b', 'c', [1, 2, 3]]\n"
       ]
      }
     ],
     "prompt_number": 14
    },
    {
     "cell_type": "code",
     "collapsed": false,
     "input": [
      "for elemento in lista:\n",
      "    print(elemento)"
     ],
     "language": "python",
     "metadata": {},
     "outputs": [
      {
       "output_type": "stream",
       "stream": "stdout",
       "text": [
        "a\n",
        "b\n",
        "c\n",
        "[1, 2, 3]\n"
       ]
      }
     ],
     "prompt_number": 15
    },
    {
     "cell_type": "code",
     "collapsed": false,
     "input": [
      "arquivo = open(\"codons.txt\", \"r\")\n",
      "for linhas in arquivo:\n",
      "    print(linhas)\n",
      "arquivo.close()"
     ],
     "language": "python",
     "metadata": {},
     "outputs": [
      {
       "output_type": "stream",
       "stream": "stdout",
       "text": [
        "AAA\tLys\n",
        "\n",
        "AAC\tAsn\n",
        "\n",
        "AAG\tLys\n",
        "\n",
        "AAT\tAsn\n",
        "\n",
        "ACA\tThr\n",
        "\n",
        "ACC\tThr\n",
        "\n",
        "ACG\tThr\n",
        "\n",
        "ACT\tThr\n",
        "\n",
        "AGA\tArg\n",
        "\n",
        "AGC\tSer\n",
        "\n",
        "AGG\tArg\n",
        "\n",
        "AGT\tSer\n",
        "\n",
        "ATA\tIle\n",
        "\n",
        "ATC\tIle\n",
        "\n",
        "ATG\tMet\n",
        "\n",
        "ATT\tIle\n",
        "\n",
        "CAA\tGln\n",
        "\n",
        "CAC\tHis\n",
        "\n",
        "CAG\tGln\n",
        "\n",
        "CAT\tHis\n",
        "\n",
        "CCA\tPro\n",
        "\n",
        "CCC\tPro\n",
        "\n",
        "CCG\tPro\n",
        "\n",
        "CCT\tPro\n",
        "\n",
        "CGA\tArg\n",
        "\n",
        "CGC\tArg\n",
        "\n",
        "CGG\tArg\n",
        "\n",
        "CGT\tArg\n",
        "\n",
        "CTA\tLeu\n",
        "\n",
        "CTC\tLeu\n",
        "\n",
        "CTG\tLeu\n",
        "\n",
        "CTT\tLeu\n",
        "\n",
        "GAA\tGlu\n",
        "\n",
        "GAC\tAsp\n",
        "\n",
        "GAG\tGlu\n",
        "\n",
        "GAT\tAsp\n",
        "\n",
        "GCA\tAla\n",
        "\n",
        "GCC\tAla\n",
        "\n",
        "GCG\tAla\n",
        "\n",
        "GCT\tAla\n",
        "\n",
        "GGA\tGly\n",
        "\n",
        "GGC\tGly\n",
        "\n",
        "GGG\tGly\n",
        "\n",
        "GGT\tGly\n",
        "\n",
        "GTA\tVal\n",
        "\n",
        "GTC\tVal\n",
        "\n",
        "GTG\tVal\n",
        "\n",
        "GTT\tVal\n",
        "\n",
        "TAA\tSTOP\n",
        "\n",
        "TAC\tTyr\n",
        "\n",
        "TAG\tSTOP\n",
        "\n",
        "TAT\tTyr\n",
        "\n",
        "TCA\tSer\n",
        "\n",
        "TCC\tSer\n",
        "\n",
        "TCG\tSer\n",
        "\n",
        "TCT\tSer\n",
        "\n",
        "TGA\tSTOP\n",
        "\n",
        "TGC\tCys\n",
        "\n",
        "TGG\tTrp\n",
        "\n",
        "TGT\tCys\n",
        "\n",
        "TTA\tLeu\n",
        "\n",
        "TTC\tPhe\n",
        "\n",
        "TTG\tLeu\n",
        "\n",
        "TTT\tPhe\n",
        "\n"
       ]
      }
     ],
     "prompt_number": 19
    },
    {
     "cell_type": "code",
     "collapsed": false,
     "input": [
      "with open(\"codons.txt\", \"r\") as arquivo:\n",
      "    for linhas in arquivo:\n",
      "        print(linhas)"
     ],
     "language": "python",
     "metadata": {},
     "outputs": [
      {
       "output_type": "stream",
       "stream": "stdout",
       "text": [
        "AAA\tLys\n",
        "\n",
        "AAC\tAsn\n",
        "\n",
        "AAG\tLys\n",
        "\n",
        "AAT\tAsn\n",
        "\n",
        "ACA\tThr\n",
        "\n",
        "ACC\tThr\n",
        "\n",
        "ACG\tThr\n",
        "\n",
        "ACT\tThr\n",
        "\n",
        "AGA\tArg\n",
        "\n",
        "AGC\tSer\n",
        "\n",
        "AGG\tArg\n",
        "\n",
        "AGT\tSer\n",
        "\n",
        "ATA\tIle\n",
        "\n",
        "ATC\tIle\n",
        "\n",
        "ATG\tMet\n",
        "\n",
        "ATT\tIle\n",
        "\n",
        "CAA\tGln\n",
        "\n",
        "CAC\tHis\n",
        "\n",
        "CAG\tGln\n",
        "\n",
        "CAT\tHis\n",
        "\n",
        "CCA\tPro\n",
        "\n",
        "CCC\tPro\n",
        "\n",
        "CCG\tPro\n",
        "\n",
        "CCT\tPro\n",
        "\n",
        "CGA\tArg\n",
        "\n",
        "CGC\tArg\n",
        "\n",
        "CGG\tArg\n",
        "\n",
        "CGT\tArg\n",
        "\n",
        "CTA\tLeu\n",
        "\n",
        "CTC\tLeu\n",
        "\n",
        "CTG\tLeu\n",
        "\n",
        "CTT\tLeu\n",
        "\n",
        "GAA\tGlu\n",
        "\n",
        "GAC\tAsp\n",
        "\n",
        "GAG\tGlu\n",
        "\n",
        "GAT\tAsp\n",
        "\n",
        "GCA\tAla\n",
        "\n",
        "GCC\tAla\n",
        "\n",
        "GCG\tAla\n",
        "\n",
        "GCT\tAla\n",
        "\n",
        "GGA\tGly\n",
        "\n",
        "GGC\tGly\n",
        "\n",
        "GGG\tGly\n",
        "\n",
        "GGT\tGly\n",
        "\n",
        "GTA\tVal\n",
        "\n",
        "GTC\tVal\n",
        "\n",
        "GTG\tVal\n",
        "\n",
        "GTT\tVal\n",
        "\n",
        "TAA\tSTOP\n",
        "\n",
        "TAC\tTyr\n",
        "\n",
        "TAG\tSTOP\n",
        "\n",
        "TAT\tTyr\n",
        "\n",
        "TCA\tSer\n",
        "\n",
        "TCC\tSer\n",
        "\n",
        "TCG\tSer\n",
        "\n",
        "TCT\tSer\n",
        "\n",
        "TGA\tSTOP\n",
        "\n",
        "TGC\tCys\n",
        "\n",
        "TGG\tTrp\n",
        "\n",
        "TGT\tCys\n",
        "\n",
        "TTA\tLeu\n",
        "\n",
        "TTC\tPhe\n",
        "\n",
        "TTG\tLeu\n",
        "\n",
        "TTT\tPhe\n",
        "\n"
       ]
      }
     ],
     "prompt_number": 20
    },
    {
     "cell_type": "code",
     "collapsed": false,
     "input": [
      "dicionario = {'a': 'abacate', 'b': 'banana', 'c': 'cebola'}"
     ],
     "language": "python",
     "metadata": {},
     "outputs": [],
     "prompt_number": 21
    },
    {
     "cell_type": "code",
     "collapsed": false,
     "input": [
      "dicionario"
     ],
     "language": "python",
     "metadata": {},
     "outputs": [
      {
       "metadata": {},
       "output_type": "pyout",
       "prompt_number": 22,
       "text": [
        "{'a': 'abacate', 'b': 'banana', 'c': 'cebola'}"
       ]
      }
     ],
     "prompt_number": 22
    },
    {
     "cell_type": "code",
     "collapsed": false,
     "input": [
      "for chave in dicionario:\n",
      "    print(\"chave = {0}\\nvalor = {1}\".format(chave, dicionario[chave]))"
     ],
     "language": "python",
     "metadata": {},
     "outputs": [
      {
       "output_type": "stream",
       "stream": "stdout",
       "text": [
        "chave = a\n",
        "valor = abacate\n",
        "chave = c\n",
        "valor = cebola\n",
        "chave = b\n",
        "valor = banana\n"
       ]
      }
     ],
     "prompt_number": 24
    },
    {
     "cell_type": "code",
     "collapsed": false,
     "input": [
      "for item in set(['a', 'b', 'c']):\n",
      "    print(item)"
     ],
     "language": "python",
     "metadata": {},
     "outputs": [
      {
       "output_type": "stream",
       "stream": "stdout",
       "text": [
        "a\n",
        "c\n",
        "b\n"
       ]
      }
     ],
     "prompt_number": 26
    },
    {
     "cell_type": "markdown",
     "metadata": {},
     "source": [
      "## Condicionais\n",
      "\n",
      "Em ingl\u00eas s\u00e3o conhecidos por *ifs*."
     ]
    },
    {
     "cell_type": "code",
     "collapsed": false,
     "input": [
      "if True:\n",
      "    print(\"Verdadeiro\")"
     ],
     "language": "python",
     "metadata": {},
     "outputs": [
      {
       "output_type": "stream",
       "stream": "stdout",
       "text": [
        "Verdadeiro\n"
       ]
      }
     ],
     "prompt_number": 27
    },
    {
     "cell_type": "code",
     "collapsed": false,
     "input": [
      "if False:\n",
      "    print(\"Falso\")"
     ],
     "language": "python",
     "metadata": {},
     "outputs": [],
     "prompt_number": 28
    },
    {
     "cell_type": "code",
     "collapsed": false,
     "input": [
      "if not False:\n",
      "    print(\"nao Falso\")"
     ],
     "language": "python",
     "metadata": {},
     "outputs": [
      {
       "output_type": "stream",
       "stream": "stdout",
       "text": [
        "nao Falso\n"
       ]
      }
     ],
     "prompt_number": 30
    },
    {
     "cell_type": "code",
     "collapsed": false,
     "input": [
      "if True and False:\n",
      "    print(\"True\")"
     ],
     "language": "python",
     "metadata": {},
     "outputs": [],
     "prompt_number": 31
    },
    {
     "cell_type": "code",
     "collapsed": false,
     "input": [
      "if True or False:\n",
      "    print(\"True\")"
     ],
     "language": "python",
     "metadata": {},
     "outputs": [
      {
       "output_type": "stream",
       "stream": "stdout",
       "text": [
        "True\n"
       ]
      }
     ],
     "prompt_number": 32
    },
    {
     "cell_type": "code",
     "collapsed": false,
     "input": [
      "if ['a', 'b', 'c']:\n",
      "    print(\"lista\")"
     ],
     "language": "python",
     "metadata": {},
     "outputs": [
      {
       "output_type": "stream",
       "stream": "stdout",
       "text": [
        "lista\n"
       ]
      }
     ],
     "prompt_number": 33
    },
    {
     "cell_type": "code",
     "collapsed": false,
     "input": [
      "if []:\n",
      "    print(\"lista vazia\")"
     ],
     "language": "python",
     "metadata": {},
     "outputs": [],
     "prompt_number": 35
    },
    {
     "cell_type": "code",
     "collapsed": false,
     "input": [
      "if not set():\n",
      "    print(\"conjunto vazio\")"
     ],
     "language": "python",
     "metadata": {},
     "outputs": [
      {
       "output_type": "stream",
       "stream": "stdout",
       "text": [
        "conjunto vazio\n"
       ]
      }
     ],
     "prompt_number": 36
    },
    {
     "cell_type": "markdown",
     "metadata": {},
     "source": [
      "## Solu\u00e7\u00e3o do Exerc\u00edcio 3"
     ]
    },
    {
     "cell_type": "code",
     "collapsed": false,
     "input": [
      "with open(\"codons.txt\", \"r\") as arquivo:\n",
      "    for linha in arquivo:\n",
      "        if linha[0] == 'A':\n",
      "            print(linha)"
     ],
     "language": "python",
     "metadata": {},
     "outputs": [
      {
       "output_type": "stream",
       "stream": "stdout",
       "text": [
        "AAA\tLys\n",
        "\n",
        "AAC\tAsn\n",
        "\n",
        "AAG\tLys\n",
        "\n",
        "AAT\tAsn\n",
        "\n",
        "ACA\tThr\n",
        "\n",
        "ACC\tThr\n",
        "\n",
        "ACG\tThr\n",
        "\n",
        "ACT\tThr\n",
        "\n",
        "AGA\tArg\n",
        "\n",
        "AGC\tSer\n",
        "\n",
        "AGG\tArg\n",
        "\n",
        "AGT\tSer\n",
        "\n",
        "ATA\tIle\n",
        "\n",
        "ATC\tIle\n",
        "\n",
        "ATG\tMet\n",
        "\n",
        "ATT\tIle\n",
        "\n"
       ]
      }
     ],
     "prompt_number": 39
    },
    {
     "cell_type": "markdown",
     "metadata": {},
     "source": [
      "## Solu\u00e7\u00e3o do Exerc\u00edcio 4"
     ]
    },
    {
     "cell_type": "code",
     "collapsed": false,
     "input": [
      "with open(\"codons.txt\", \"r\") as arquivo:\n",
      "    for linha in arquivo:\n",
      "        if linha[0] == 'A':\n",
      "            print(linha[0:3])"
     ],
     "language": "python",
     "metadata": {},
     "outputs": [
      {
       "output_type": "stream",
       "stream": "stdout",
       "text": [
        "AAA\n",
        "AAC\n",
        "AAG\n",
        "AAT\n",
        "ACA\n",
        "ACC\n",
        "ACG\n",
        "ACT\n",
        "AGA\n",
        "AGC\n",
        "AGG\n",
        "AGT\n",
        "ATA\n",
        "ATC\n",
        "ATG\n",
        "ATT\n"
       ]
      }
     ],
     "prompt_number": 42
    },
    {
     "cell_type": "code",
     "collapsed": false,
     "input": [
      "with open(\"codons.txt\", \"r\") as arquivo:\n",
      "    for linha in arquivo:\n",
      "        linha = linha.split('\\t')\n",
      "        if linha[0][0] == 'A':\n",
      "            print(linha[0])"
     ],
     "language": "python",
     "metadata": {},
     "outputs": [
      {
       "output_type": "stream",
       "stream": "stdout",
       "text": [
        "AAA\n",
        "AAC\n",
        "AAG\n",
        "AAT\n",
        "ACA\n",
        "ACC\n",
        "ACG\n",
        "ACT\n",
        "AGA\n",
        "AGC\n",
        "AGG\n",
        "AGT\n",
        "ATA\n",
        "ATC\n",
        "ATG\n",
        "ATT\n"
       ]
      }
     ],
     "prompt_number": 43
    },
    {
     "cell_type": "code",
     "collapsed": false,
     "input": [
      "with open(\"codons.txt\", \"r\") as arquivo:\n",
      "    for linha in arquivo:\n",
      "        if linha[0] == 'A':\n",
      "            print(linha.split('\\t')[0])"
     ],
     "language": "python",
     "metadata": {},
     "outputs": [
      {
       "output_type": "stream",
       "stream": "stdout",
       "text": [
        "AAA\n",
        "AAC\n",
        "AAG\n",
        "AAT\n",
        "ACA\n",
        "ACC\n",
        "ACG\n",
        "ACT\n",
        "AGA\n",
        "AGC\n",
        "AGG\n",
        "AGT\n",
        "ATA\n",
        "ATC\n",
        "ATG\n",
        "ATT\n"
       ]
      }
     ],
     "prompt_number": 44
    },
    {
     "cell_type": "code",
     "collapsed": false,
     "input": [
      "with open(\"codons.txt\", \"r\") as arquivo:\n",
      "    for linha in arquivo:\n",
      "        linha = linha.split('\\t')\n",
      "        if linha[0][0] == 'A':\n",
      "            print(linha[1])"
     ],
     "language": "python",
     "metadata": {},
     "outputs": [
      {
       "output_type": "stream",
       "stream": "stdout",
       "text": [
        "Lys\n",
        "\n",
        "Asn\n",
        "\n",
        "Lys\n",
        "\n",
        "Asn\n",
        "\n",
        "Thr\n",
        "\n",
        "Thr\n",
        "\n",
        "Thr\n",
        "\n",
        "Thr\n",
        "\n",
        "Arg\n",
        "\n",
        "Ser\n",
        "\n",
        "Arg\n",
        "\n",
        "Ser\n",
        "\n",
        "Ile\n",
        "\n",
        "Ile\n",
        "\n",
        "Met\n",
        "\n",
        "Ile\n",
        "\n"
       ]
      }
     ],
     "prompt_number": 45
    },
    {
     "cell_type": "code",
     "collapsed": false,
     "input": [
      "with open(\"codons.txt\", \"r\") as arquivo:\n",
      "    for linha in arquivo:\n",
      "        linha = linha.split('\\t')\n",
      "        if linha[0][0] == 'C' or linha[0][2] == 'T':\n",
      "            print(linha[0])"
     ],
     "language": "python",
     "metadata": {},
     "outputs": [
      {
       "output_type": "stream",
       "stream": "stdout",
       "text": [
        "AAT\n",
        "ACT\n",
        "AGT\n",
        "ATT\n",
        "CAA\n",
        "CAC\n",
        "CAG\n",
        "CAT\n",
        "CCA\n",
        "CCC\n",
        "CCG\n",
        "CCT\n",
        "CGA\n",
        "CGC\n",
        "CGG\n",
        "CGT\n",
        "CTA\n",
        "CTC\n",
        "CTG\n",
        "CTT\n",
        "GAT\n",
        "GCT\n",
        "GGT\n",
        "GTT\n",
        "TAT\n",
        "TCT\n",
        "TGT\n",
        "TTT\n"
       ]
      }
     ],
     "prompt_number": 47
    },
    {
     "cell_type": "code",
     "collapsed": false,
     "input": [
      "with open(\"codons.txt\", \"r\") as arquivo:\n",
      "    for linha in arquivo:\n",
      "        linha = linha.split('\\t')\n",
      "        if linha[0][0] == 'C' or linha[0][-1] == 'T':\n",
      "            print(linha[0])"
     ],
     "language": "python",
     "metadata": {},
     "outputs": [
      {
       "output_type": "stream",
       "stream": "stdout",
       "text": [
        "AAT\n",
        "ACT\n",
        "AGT\n",
        "ATT\n",
        "CAA\n",
        "CAC\n",
        "CAG\n",
        "CAT\n",
        "CCA\n",
        "CCC\n",
        "CCG\n",
        "CCT\n",
        "CGA\n",
        "CGC\n",
        "CGG\n",
        "CGT\n",
        "CTA\n",
        "CTC\n",
        "CTG\n",
        "CTT\n",
        "GAT\n",
        "GCT\n",
        "GGT\n",
        "GTT\n",
        "TAT\n",
        "TCT\n",
        "TGT\n",
        "TTT\n"
       ]
      }
     ],
     "prompt_number": 51
    },
    {
     "cell_type": "code",
     "collapsed": false,
     "input": [
      "with open(\"codons.txt\", \"r\") as arquivo:\n",
      "    for linha in arquivo:\n",
      "        linha = linha.split('\\t')\n",
      "        if linha[0].startswith('C') or linha[0].endswith('T'):\n",
      "            print(linha[0])"
     ],
     "language": "python",
     "metadata": {},
     "outputs": [
      {
       "output_type": "stream",
       "stream": "stdout",
       "text": [
        "AAT\n",
        "ACT\n",
        "AGT\n",
        "ATT\n",
        "CAA\n",
        "CAC\n",
        "CAG\n",
        "CAT\n",
        "CCA\n",
        "CCC\n",
        "CCG\n",
        "CCT\n",
        "CGA\n",
        "CGC\n",
        "CGG\n",
        "CGT\n",
        "CTA\n",
        "CTC\n",
        "CTG\n",
        "CTT\n",
        "GAT\n",
        "GCT\n",
        "GGT\n",
        "GTT\n",
        "TAT\n",
        "TCT\n",
        "TGT\n",
        "TTT\n"
       ]
      }
     ],
     "prompt_number": 50
    },
    {
     "cell_type": "code",
     "collapsed": false,
     "input": [
      "help(str)"
     ],
     "language": "python",
     "metadata": {},
     "outputs": [
      {
       "output_type": "stream",
       "stream": "stdout",
       "text": [
        "Help on class str in module __builtin__:\n",
        "\n",
        "class str(basestring)\n",
        " |  str(object) -> string\n",
        " |  \n",
        " |  Return a nice string representation of the object.\n",
        " |  If the argument is a string, the return value is the same object.\n",
        " |  \n",
        " |  Method resolution order:\n",
        " |      str\n",
        " |      basestring\n",
        " |      object\n",
        " |  \n",
        " |  Methods defined here:\n",
        " |  \n",
        " |  __add__(...)\n",
        " |      x.__add__(y) <==> x+y\n",
        " |  \n",
        " |  __contains__(...)\n",
        " |      x.__contains__(y) <==> y in x\n",
        " |  \n",
        " |  __eq__(...)\n",
        " |      x.__eq__(y) <==> x==y\n",
        " |  \n",
        " |  __format__(...)\n",
        " |      S.__format__(format_spec) -> string\n",
        " |      \n",
        " |      Return a formatted version of S as described by format_spec.\n",
        " |  \n",
        " |  __ge__(...)\n",
        " |      x.__ge__(y) <==> x>=y\n",
        " |  \n",
        " |  __getattribute__(...)\n",
        " |      x.__getattribute__('name') <==> x.name\n",
        " |  \n",
        " |  __getitem__(...)\n",
        " |      x.__getitem__(y) <==> x[y]\n",
        " |  \n",
        " |  __getnewargs__(...)\n",
        " |  \n",
        " |  __getslice__(...)\n",
        " |      x.__getslice__(i, j) <==> x[i:j]\n",
        " |      \n",
        " |      Use of negative indices is not supported.\n",
        " |  \n",
        " |  __gt__(...)\n",
        " |      x.__gt__(y) <==> x>y\n",
        " |  \n",
        " |  __hash__(...)\n",
        " |      x.__hash__() <==> hash(x)\n",
        " |  \n",
        " |  __le__(...)\n",
        " |      x.__le__(y) <==> x<=y\n",
        " |  \n",
        " |  __len__(...)\n",
        " |      x.__len__() <==> len(x)\n",
        " |  \n",
        " |  __lt__(...)\n",
        " |      x.__lt__(y) <==> x<y\n",
        " |  \n",
        " |  __mod__(...)\n",
        " |      x.__mod__(y) <==> x%y\n",
        " |  \n",
        " |  __mul__(...)\n",
        " |      x.__mul__(n) <==> x*n\n",
        " |  \n",
        " |  __ne__(...)\n",
        " |      x.__ne__(y) <==> x!=y\n",
        " |  \n",
        " |  __repr__(...)\n",
        " |      x.__repr__() <==> repr(x)\n",
        " |  \n",
        " |  __rmod__(...)\n",
        " |      x.__rmod__(y) <==> y%x\n",
        " |  \n",
        " |  __rmul__(...)\n",
        " |      x.__rmul__(n) <==> n*x\n",
        " |  \n",
        " |  __sizeof__(...)\n",
        " |      S.__sizeof__() -> size of S in memory, in bytes\n",
        " |  \n",
        " |  __str__(...)\n",
        " |      x.__str__() <==> str(x)\n",
        " |  \n",
        " |  capitalize(...)\n",
        " |      S.capitalize() -> string\n",
        " |      \n",
        " |      Return a copy of the string S with only its first character\n",
        " |      capitalized.\n",
        " |  \n",
        " |  center(...)\n",
        " |      S.center(width[, fillchar]) -> string\n",
        " |      \n",
        " |      Return S centered in a string of length width. Padding is\n",
        " |      done using the specified fill character (default is a space)\n",
        " |  \n",
        " |  count(...)\n",
        " |      S.count(sub[, start[, end]]) -> int\n",
        " |      \n",
        " |      Return the number of non-overlapping occurrences of substring sub in\n",
        " |      string S[start:end].  Optional arguments start and end are interpreted\n",
        " |      as in slice notation.\n",
        " |  \n",
        " |  decode(...)\n",
        " |      S.decode([encoding[,errors]]) -> object\n",
        " |      \n",
        " |      Decodes S using the codec registered for encoding. encoding defaults\n",
        " |      to the default encoding. errors may be given to set a different error\n",
        " |      handling scheme. Default is 'strict' meaning that encoding errors raise\n",
        " |      a UnicodeDecodeError. Other possible values are 'ignore' and 'replace'\n",
        " |      as well as any other name registered with codecs.register_error that is\n",
        " |      able to handle UnicodeDecodeErrors.\n",
        " |  \n",
        " |  encode(...)\n",
        " |      S.encode([encoding[,errors]]) -> object\n",
        " |      \n",
        " |      Encodes S using the codec registered for encoding. encoding defaults\n",
        " |      to the default encoding. errors may be given to set a different error\n",
        " |      handling scheme. Default is 'strict' meaning that encoding errors raise\n",
        " |      a UnicodeEncodeError. Other possible values are 'ignore', 'replace' and\n",
        " |      'xmlcharrefreplace' as well as any other name registered with\n",
        " |      codecs.register_error that is able to handle UnicodeEncodeErrors.\n",
        " |  \n",
        " |  endswith(...)\n",
        " |      S.endswith(suffix[, start[, end]]) -> bool\n",
        " |      \n",
        " |      Return True if S ends with the specified suffix, False otherwise.\n",
        " |      With optional start, test S beginning at that position.\n",
        " |      With optional end, stop comparing S at that position.\n",
        " |      suffix can also be a tuple of strings to try.\n",
        " |  \n",
        " |  expandtabs(...)\n",
        " |      S.expandtabs([tabsize]) -> string\n",
        " |      \n",
        " |      Return a copy of S where all tab characters are expanded using spaces.\n",
        " |      If tabsize is not given, a tab size of 8 characters is assumed.\n",
        " |  \n",
        " |  find(...)\n",
        " |      S.find(sub [,start [,end]]) -> int\n",
        " |      \n",
        " |      Return the lowest index in S where substring sub is found,\n",
        " |      such that sub is contained within S[start:end].  Optional\n",
        " |      arguments start and end are interpreted as in slice notation.\n",
        " |      \n",
        " |      Return -1 on failure.\n",
        " |  \n",
        " |  format(...)\n",
        " |      S.format(*args, **kwargs) -> string\n",
        " |      \n",
        " |      Return a formatted version of S, using substitutions from args and kwargs.\n",
        " |      The substitutions are identified by braces ('{' and '}').\n",
        " |  \n",
        " |  index(...)\n",
        " |      S.index(sub [,start [,end]]) -> int\n",
        " |      \n",
        " |      Like S.find() but raise ValueError when the substring is not found.\n",
        " |  \n",
        " |  isalnum(...)\n",
        " |      S.isalnum() -> bool\n",
        " |      \n",
        " |      Return True if all characters in S are alphanumeric\n",
        " |      and there is at least one character in S, False otherwise.\n",
        " |  \n",
        " |  isalpha(...)\n",
        " |      S.isalpha() -> bool\n",
        " |      \n",
        " |      Return True if all characters in S are alphabetic\n",
        " |      and there is at least one character in S, False otherwise.\n",
        " |  \n",
        " |  isdigit(...)\n",
        " |      S.isdigit() -> bool\n",
        " |      \n",
        " |      Return True if all characters in S are digits\n",
        " |      and there is at least one character in S, False otherwise.\n",
        " |  \n",
        " |  islower(...)\n",
        " |      S.islower() -> bool\n",
        " |      \n",
        " |      Return True if all cased characters in S are lowercase and there is\n",
        " |      at least one cased character in S, False otherwise.\n",
        " |  \n",
        " |  isspace(...)\n",
        " |      S.isspace() -> bool\n",
        " |      \n",
        " |      Return True if all characters in S are whitespace\n",
        " |      and there is at least one character in S, False otherwise.\n",
        " |  \n",
        " |  istitle(...)\n",
        " |      S.istitle() -> bool\n",
        " |      \n",
        " |      Return True if S is a titlecased string and there is at least one\n",
        " |      character in S, i.e. uppercase characters may only follow uncased\n",
        " |      characters and lowercase characters only cased ones. Return False\n",
        " |      otherwise.\n",
        " |  \n",
        " |  isupper(...)\n",
        " |      S.isupper() -> bool\n",
        " |      \n",
        " |      Return True if all cased characters in S are uppercase and there is\n",
        " |      at least one cased character in S, False otherwise.\n",
        " |  \n",
        " |  join(...)\n",
        " |      S.join(iterable) -> string\n",
        " |      \n",
        " |      Return a string which is the concatenation of the strings in the\n",
        " |      iterable.  The separator between elements is S.\n",
        " |  \n",
        " |  ljust(...)\n",
        " |      S.ljust(width[, fillchar]) -> string\n",
        " |      \n",
        " |      Return S left-justified in a string of length width. Padding is\n",
        " |      done using the specified fill character (default is a space).\n",
        " |  \n",
        " |  lower(...)\n",
        " |      S.lower() -> string\n",
        " |      \n",
        " |      Return a copy of the string S converted to lowercase.\n",
        " |  \n",
        " |  lstrip(...)\n",
        " |      S.lstrip([chars]) -> string or unicode\n",
        " |      \n",
        " |      Return a copy of the string S with leading whitespace removed.\n",
        " |      If chars is given and not None, remove characters in chars instead.\n",
        " |      If chars is unicode, S will be converted to unicode before stripping\n",
        " |  \n",
        " |  partition(...)\n",
        " |      S.partition(sep) -> (head, sep, tail)\n",
        " |      \n",
        " |      Search for the separator sep in S, and return the part before it,\n",
        " |      the separator itself, and the part after it.  If the separator is not\n",
        " |      found, return S and two empty strings.\n",
        " |  \n",
        " |  replace(...)\n",
        " |      S.replace(old, new[, count]) -> string\n",
        " |      \n",
        " |      Return a copy of string S with all occurrences of substring\n",
        " |      old replaced by new.  If the optional argument count is\n",
        " |      given, only the first count occurrences are replaced.\n",
        " |  \n",
        " |  rfind(...)\n",
        " |      S.rfind(sub [,start [,end]]) -> int\n",
        " |      \n",
        " |      Return the highest index in S where substring sub is found,\n",
        " |      such that sub is contained within S[start:end].  Optional\n",
        " |      arguments start and end are interpreted as in slice notation.\n",
        " |      \n",
        " |      Return -1 on failure.\n",
        " |  \n",
        " |  rindex(...)\n",
        " |      S.rindex(sub [,start [,end]]) -> int\n",
        " |      \n",
        " |      Like S.rfind() but raise ValueError when the substring is not found.\n",
        " |  \n",
        " |  rjust(...)\n",
        " |      S.rjust(width[, fillchar]) -> string\n",
        " |      \n",
        " |      Return S right-justified in a string of length width. Padding is\n",
        " |      done using the specified fill character (default is a space)\n",
        " |  \n",
        " |  rpartition(...)\n",
        " |      S.rpartition(sep) -> (head, sep, tail)\n",
        " |      \n",
        " |      Search for the separator sep in S, starting at the end of S, and return\n",
        " |      the part before it, the separator itself, and the part after it.  If the\n",
        " |      separator is not found, return two empty strings and S.\n",
        " |  \n",
        " |  rsplit(...)\n",
        " |      S.rsplit([sep [,maxsplit]]) -> list of strings\n",
        " |      \n",
        " |      Return a list of the words in the string S, using sep as the\n",
        " |      delimiter string, starting at the end of the string and working\n",
        " |      to the front.  If maxsplit is given, at most maxsplit splits are\n",
        " |      done. If sep is not specified or is None, any whitespace string\n",
        " |      is a separator.\n",
        " |  \n",
        " |  rstrip(...)\n",
        " |      S.rstrip([chars]) -> string or unicode\n",
        " |      \n",
        " |      Return a copy of the string S with trailing whitespace removed.\n",
        " |      If chars is given and not None, remove characters in chars instead.\n",
        " |      If chars is unicode, S will be converted to unicode before stripping\n",
        " |  \n",
        " |  split(...)\n",
        " |      S.split([sep [,maxsplit]]) -> list of strings\n",
        " |      \n",
        " |      Return a list of the words in the string S, using sep as the\n",
        " |      delimiter string.  If maxsplit is given, at most maxsplit\n",
        " |      splits are done. If sep is not specified or is None, any\n",
        " |      whitespace string is a separator and empty strings are removed\n",
        " |      from the result.\n",
        " |  \n",
        " |  splitlines(...)\n",
        " |      S.splitlines(keepends=False) -> list of strings\n",
        " |      \n",
        " |      Return a list of the lines in S, breaking at line boundaries.\n",
        " |      Line breaks are not included in the resulting list unless keepends\n",
        " |      is given and true.\n",
        " |  \n",
        " |  startswith(...)\n",
        " |      S.startswith(prefix[, start[, end]]) -> bool\n",
        " |      \n",
        " |      Return True if S starts with the specified prefix, False otherwise.\n",
        " |      With optional start, test S beginning at that position.\n",
        " |      With optional end, stop comparing S at that position.\n",
        " |      prefix can also be a tuple of strings to try.\n",
        " |  \n",
        " |  strip(...)\n",
        " |      S.strip([chars]) -> string or unicode\n",
        " |      \n",
        " |      Return a copy of the string S with leading and trailing\n",
        " |      whitespace removed.\n",
        " |      If chars is given and not None, remove characters in chars instead.\n",
        " |      If chars is unicode, S will be converted to unicode before stripping\n",
        " |  \n",
        " |  swapcase(...)\n",
        " |      S.swapcase() -> string\n",
        " |      \n",
        " |      Return a copy of the string S with uppercase characters\n",
        " |      converted to lowercase and vice versa.\n",
        " |  \n",
        " |  title(...)\n",
        " |      S.title() -> string\n",
        " |      \n",
        " |      Return a titlecased version of S, i.e. words start with uppercase\n",
        " |      characters, all remaining cased characters have lowercase.\n",
        " |  \n",
        " |  translate(...)\n",
        " |      S.translate(table [,deletechars]) -> string\n",
        " |      \n",
        " |      Return a copy of the string S, where all characters occurring\n",
        " |      in the optional argument deletechars are removed, and the\n",
        " |      remaining characters have been mapped through the given\n",
        " |      translation table, which must be a string of length 256 or None.\n",
        " |      If the table argument is None, no translation is applied and\n",
        " |      the operation simply removes the characters in deletechars.\n",
        " |  \n",
        " |  upper(...)\n",
        " |      S.upper() -> string\n",
        " |      \n",
        " |      Return a copy of the string S converted to uppercase.\n",
        " |  \n",
        " |  zfill(...)\n",
        " |      S.zfill(width) -> string\n",
        " |      \n",
        " |      Pad a numeric string S with zeros on the left, to fill a field\n",
        " |      of the specified width.  The string S is never truncated.\n",
        " |  \n",
        " |  ----------------------------------------------------------------------\n",
        " |  Data and other attributes defined here:\n",
        " |  \n",
        " |  __new__ = <built-in method __new__ of type object>\n",
        " |      T.__new__(S, ...) -> a new object with type S, a subtype of T\n",
        "\n"
       ]
      }
     ],
     "prompt_number": 49
    },
    {
     "cell_type": "code",
     "collapsed": false,
     "input": [
      "import re\n",
      "with open(\"saida.txt\", \"w\") as saida:\n",
      "    with open(\"codons.txt\", \"r\") as arquivo:\n",
      "        for linha in arquivo:\n",
      "            linha = re.match('(^C[CGTA]{2}|^[CGTA]{2}T)', linha)\n",
      "            if linha:\n",
      "                print(linha.group())\n",
      "                saida.write(\"{0}\\n\".format(linha.group()))"
     ],
     "language": "python",
     "metadata": {},
     "outputs": [
      {
       "output_type": "stream",
       "stream": "stdout",
       "text": [
        "AAT\n",
        "ACT\n",
        "AGT\n",
        "ATT\n",
        "CAA\n",
        "CAC\n",
        "CAG\n",
        "CAT\n",
        "CCA\n",
        "CCC\n",
        "CCG\n",
        "CCT\n",
        "CGA\n",
        "CGC\n",
        "CGG\n",
        "CGT\n",
        "CTA\n",
        "CTC\n",
        "CTG\n",
        "CTT\n",
        "GAT\n",
        "GCT\n",
        "GGT\n",
        "GTT\n",
        "TAT\n",
        "TCT\n",
        "TGT\n",
        "TTT\n"
       ]
      }
     ],
     "prompt_number": 19
    },
    {
     "cell_type": "code",
     "collapsed": false,
     "input": [
      "help(re.match)"
     ],
     "language": "python",
     "metadata": {},
     "outputs": [
      {
       "output_type": "stream",
       "stream": "stdout",
       "text": [
        "Help on function match in module re:\n",
        "\n",
        "match(pattern, string, flags=0)\n",
        "    Try to apply the pattern at the start of the string, returning\n",
        "    a match object, or None if no match was found.\n",
        "\n"
       ]
      }
     ],
     "prompt_number": 54
    },
    {
     "cell_type": "markdown",
     "metadata": {},
     "source": [
      "## Enquanto (La\u00e7o)\n",
      "\n",
      "\u00c9 conhecido em ingl\u00eas por *while*."
     ]
    },
    {
     "cell_type": "code",
     "collapsed": false,
     "input": [
      "i = 0\n",
      "while i < 10:\n",
      "    i = i + 1\n",
      "    print(i)     "
     ],
     "language": "python",
     "metadata": {},
     "outputs": [
      {
       "output_type": "stream",
       "stream": "stdout",
       "text": [
        "1\n",
        "2\n",
        "3\n",
        "4\n",
        "5\n",
        "6\n",
        "7\n",
        "8\n",
        "9\n",
        "10\n"
       ]
      }
     ],
     "prompt_number": 3
    },
    {
     "cell_type": "code",
     "collapsed": false,
     "input": [
      "i = 0\n",
      "while i < 10:\n",
      "    i = i + 1\n",
      "    if i % 2 == 0:\n",
      "        print(\"par\")\n",
      "    else:\n",
      "        print(\"impar\")\n",
      "        "
     ],
     "language": "python",
     "metadata": {},
     "outputs": [
      {
       "output_type": "stream",
       "stream": "stdout",
       "text": [
        "impar\n",
        "par\n",
        "impar\n",
        "par\n",
        "impar\n",
        "par\n",
        "impar\n",
        "par\n",
        "impar\n",
        "par\n"
       ]
      }
     ],
     "prompt_number": 8
    },
    {
     "cell_type": "code",
     "collapsed": false,
     "input": [
      "i = 0\n",
      "while i < 10:\n",
      "    i = i + 1\n",
      "    if i % 3 == 0 :\n",
      "        print(\"resto 0\")\n",
      "    elif i % 3 == 1:\n",
      "        print(\"resto 1\")\n",
      "    else:\n",
      "        print(\"resto 2\")\n",
      "     "
     ],
     "language": "python",
     "metadata": {},
     "outputs": [
      {
       "output_type": "stream",
       "stream": "stdout",
       "text": [
        "resto 1\n",
        "resto 2\n",
        "resto 0\n",
        "resto 1\n",
        "resto 2\n",
        "resto 0\n",
        "resto 1\n",
        "resto 2\n",
        "resto 0\n",
        "resto 1\n"
       ]
      }
     ],
     "prompt_number": 5
    },
    {
     "cell_type": "markdown",
     "metadata": {},
     "source": [
      "## Break"
     ]
    },
    {
     "cell_type": "code",
     "collapsed": false,
     "input": [
      "%%timeit\n",
      "i = 0\n",
      "with open(\"codons.txt\", \"r\") as arquivo:\n",
      "    for linha in arquivo:\n",
      "        i = i + 1\n",
      "        if i < 5:\n",
      "            pass"
     ],
     "language": "python",
     "metadata": {},
     "outputs": [
      {
       "output_type": "stream",
       "stream": "stdout",
       "text": [
        "10000 loops, best of 3: 19.4 \u00b5s per loop\n"
       ]
      }
     ],
     "prompt_number": 14
    },
    {
     "cell_type": "code",
     "collapsed": false,
     "input": [
      "%%timeit\n",
      "i = 0\n",
      "with open(\"codons.txt\", \"r\") as arquivo:\n",
      "    for linha in arquivo:\n",
      "        i = i + 1\n",
      "        if i < 5:\n",
      "            pass\n",
      "        else:\n",
      "            break"
     ],
     "language": "python",
     "metadata": {},
     "outputs": [
      {
       "output_type": "stream",
       "stream": "stdout",
       "text": [
        "100000 loops, best of 3: 11.5 \u00b5s per loop\n"
       ]
      }
     ],
     "prompt_number": 13
    },
    {
     "cell_type": "code",
     "collapsed": false,
     "input": [
      "with open(\"minha-saida.txt\", \"w\") as arquivo:\n",
      "    arquivo.write(\"Escrevendo no arquivo\\n\")"
     ],
     "language": "python",
     "metadata": {},
     "outputs": [],
     "prompt_number": 16
    },
    {
     "cell_type": "code",
     "collapsed": false,
     "input": [],
     "language": "python",
     "metadata": {},
     "outputs": []
    }
   ],
   "metadata": {}
  }
 ]
}