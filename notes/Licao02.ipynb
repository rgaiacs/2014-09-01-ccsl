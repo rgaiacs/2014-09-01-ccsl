{
 "metadata": {
  "name": ""
 },
 "nbformat": 3,
 "nbformat_minor": 0,
 "worksheets": [
  {
   "cells": [
    {
     "cell_type": "markdown",
     "metadata": {},
     "source": [
      "# Processando BED files\n",
      "\n",
      "Retirado de http://www.ensembl.org/info/website/upload/bed.html:\n",
      "\n",
      "> The BED format consists of one line per feature, each containing 3-12 columns of data, plus optional track definition lines.\n",
      ">\n",
      "> Required fields\n",
      ">\n",
      "> The first three fields in each feature line are required:\n",
      ">\n",
      "> - chrom - name of the chromosome or scaffold. Any valid seq_region_name can be used, and chromosome names can be given with or without the 'chr' prefix.\n",
      "> - chromStart - Start position of the feature in standard chromosomal coordinates (i.e. first base is 0).\n",
      "> - chromEnd - End position of the feature in standard chromosomal coordinates\n",
      "\n",
      "## Arquivos de exemplo\n",
      "\n",
      "Para baixar os arquivos de exemplo:\n",
      "\n",
      "~~~\n",
      "$ git clone https://github.com/rbeagrie/bedtools-example.git\n",
      "~~~"
     ]
    },
    {
     "cell_type": "markdown",
     "metadata": {},
     "source": [
      "#### Exerc\u00edcio\n",
      "\n",
      "Abrir arquivo `bedtools-example/data/cpg.bed` e mostrar as primeiras 5 linhas:"
     ]
    },
    {
     "cell_type": "code",
     "collapsed": false,
     "input": [
      "with open(\"bedtools-example/data/cpg.bed\", \"r\") as arquivo:\n",
      "    i = 0\n",
      "    for linha in arquivo:\n",
      "        i = i + 1\n",
      "        print(linha)\n",
      "        if i > 4:\n",
      "            break"
     ],
     "language": "python",
     "metadata": {},
     "outputs": [
      {
       "output_type": "stream",
       "stream": "stdout",
       "text": [
        "chr1\t28735\t29810\tCpG:_116\n",
        "\n",
        "chr1\t135124\t135563\tCpG:_30\n",
        "\n",
        "chr1\t327790\t328229\tCpG:_29\n",
        "\n",
        "chr1\t437151\t438164\tCpG:_84\n",
        "\n",
        "chr1\t449273\t450544\tCpG:_99\n",
        "\n"
       ]
      }
     ],
     "prompt_number": 22
    },
    {
     "cell_type": "markdown",
     "metadata": {},
     "source": [
      "#### Exerc\u00edcio\n",
      "\n",
      "Escrever uma fun\u00e7\u00e3o que retorna o nome dos cromossomos existentes no arquivo. Depois chame a fun\u00e7\u00e3o criada para o arquivo `bedtools-example/data/cpg.bed`."
     ]
    },
    {
     "cell_type": "code",
     "collapsed": false,
     "input": [
      "def get_chromosome_names(nome_do_arquivo):\n",
      "    \"\"\"\n",
      "    Retorna o nome dos cromossomos como uma lista.\n",
      "    \"\"\"\n",
      "    with open(nome_do_arquivo, \"r\") as arquivo:\n",
      "        chromosome_names = set()\n",
      "        for linha in arquivo:\n",
      "            linha = linha.split()\n",
      "            chromosome_names.add(linha[0])\n",
      "    return chromosome_names"
     ],
     "language": "python",
     "metadata": {},
     "outputs": [],
     "prompt_number": 37
    },
    {
     "cell_type": "code",
     "collapsed": false,
     "input": [
      "get_chromosome_names(\"bedtools-example/data/cpg.bed\")"
     ],
     "language": "python",
     "metadata": {},
     "outputs": [
      {
       "metadata": {},
       "output_type": "pyout",
       "prompt_number": 38,
       "text": [
        "{'chr1',\n",
        " 'chr10',\n",
        " 'chr11',\n",
        " 'chr11_gl000202_random',\n",
        " 'chr12',\n",
        " 'chr13',\n",
        " 'chr14',\n",
        " 'chr15',\n",
        " 'chr16',\n",
        " 'chr17',\n",
        " 'chr17_ctg5_hap1',\n",
        " 'chr17_gl000204_random',\n",
        " 'chr17_gl000205_random',\n",
        " 'chr18',\n",
        " 'chr19',\n",
        " 'chr1_gl000191_random',\n",
        " 'chr1_gl000192_random',\n",
        " 'chr2',\n",
        " 'chr20',\n",
        " 'chr21',\n",
        " 'chr22',\n",
        " 'chr3',\n",
        " 'chr4',\n",
        " 'chr4_ctg9_hap1',\n",
        " 'chr4_gl000193_random',\n",
        " 'chr4_gl000194_random',\n",
        " 'chr5',\n",
        " 'chr6',\n",
        " 'chr6_apd_hap1',\n",
        " 'chr6_cox_hap2',\n",
        " 'chr6_dbb_hap3',\n",
        " 'chr6_mann_hap4',\n",
        " 'chr6_mcf_hap5',\n",
        " 'chr6_qbl_hap6',\n",
        " 'chr6_ssto_hap7',\n",
        " 'chr7',\n",
        " 'chr8',\n",
        " 'chr8_gl000197_random',\n",
        " 'chr9',\n",
        " 'chr9_gl000199_random',\n",
        " 'chr9_gl000200_random',\n",
        " 'chr9_gl000201_random',\n",
        " 'chrUn_gl000211',\n",
        " 'chrUn_gl000212',\n",
        " 'chrUn_gl000213',\n",
        " 'chrUn_gl000214',\n",
        " 'chrUn_gl000215',\n",
        " 'chrUn_gl000216',\n",
        " 'chrUn_gl000217',\n",
        " 'chrUn_gl000218',\n",
        " 'chrUn_gl000219',\n",
        " 'chrUn_gl000220',\n",
        " 'chrUn_gl000221',\n",
        " 'chrUn_gl000222',\n",
        " 'chrUn_gl000223',\n",
        " 'chrUn_gl000224',\n",
        " 'chrUn_gl000225',\n",
        " 'chrUn_gl000228',\n",
        " 'chrUn_gl000229',\n",
        " 'chrUn_gl000231',\n",
        " 'chrUn_gl000235',\n",
        " 'chrUn_gl000236',\n",
        " 'chrUn_gl000237',\n",
        " 'chrUn_gl000240',\n",
        " 'chrUn_gl000241',\n",
        " 'chrUn_gl000242',\n",
        " 'chrUn_gl000243',\n",
        " 'chrX',\n",
        " 'chrY'}"
       ]
      }
     ],
     "prompt_number": 38
    },
    {
     "cell_type": "markdown",
     "metadata": {},
     "source": [
      "#### Exerc\u00edcio\n",
      "\n",
      "Escrever uma fun\u00e7\u00e3o que retorne uma lista de tuplas com o in\u00edcio e fim do cromossomo associada a cada cromossomo utilizando um dicion\u00e1rio para isso. Depois disso altere sua fun\u00e7\u00e3o para que ela limite a sa\u00edda para um dado tamanho m\u00e1ximo do cromossomo.\n",
      "\n",
      "No final, chame sua fun\u00e7\u00e3o com os argumentos `bedtools-example/data/cpg.bed` e `10e4`."
     ]
    },
    {
     "cell_type": "code",
     "collapsed": false,
     "input": [
      "def get_chromosome(nome_do_arquivo, size_limit=float('Inf')):\n",
      "    \"\"\"\n",
      "    Retorna um dicion\u00e1rio com os cromossomos e suas posi\u00e7\u00f5es.\n",
      "    \"\"\"\n",
      "    with open(nome_do_arquivo, \"r\") as arquivo:\n",
      "        chromosome = {}\n",
      "        for linha in arquivo:\n",
      "            linha = linha.split()\n",
      "            begin = int(linha[1])\n",
      "            end = int(linha[2])\n",
      "            if linha[0] in chromosome and begin < size_limit:\n",
      "                chromosome[linha[0]].append((begin, end))\n",
      "            elif begin < size_limit:\n",
      "                chromosome[linha[0]] = [(begin, end)]\n",
      "    return chromosome"
     ],
     "language": "python",
     "metadata": {},
     "outputs": [],
     "prompt_number": 39
    },
    {
     "cell_type": "code",
     "collapsed": false,
     "input": [
      "get_chromosome(\"bedtools-example/data/cpg.bed\", 10e4)"
     ],
     "language": "python",
     "metadata": {},
     "outputs": [
      {
       "metadata": {},
       "output_type": "pyout",
       "prompt_number": 26,
       "text": [
        "{'chr1': [(28735, 29810)],\n",
        " 'chr10': [(94526, 95301)],\n",
        " 'chr11_gl000202_random': [(16283, 16540)],\n",
        " 'chr12': [(73948, 74950)],\n",
        " 'chr16': [(72843, 73151)],\n",
        " 'chr17': [(29994, 31868), (56119, 57232), (85009, 85414), (99719, 100301)],\n",
        " 'chr17_ctg5_hap1': [(9027, 10074),\n",
        "  (64190, 64422),\n",
        "  (87663, 89479),\n",
        "  (98233, 98590)],\n",
        " 'chr17_gl000204_random': [(54685, 57368)],\n",
        " 'chr18': [(11708, 12372), (48911, 49655), (73062, 73563), (75576, 76027)],\n",
        " 'chr19': [(70343, 71417)],\n",
        " 'chr1_gl000191_random': [(29130, 30046), (49691, 50345)],\n",
        " 'chr1_gl000192_random': [(15310, 16405), (21774, 22057)],\n",
        " 'chr2': [(45510, 46559)],\n",
        " 'chr4': [(53198, 53672)],\n",
        " 'chr4_ctg9_hap1': [(45226, 45843)],\n",
        " 'chr4_gl000193_random': [(34806, 35187), (35570, 35791)],\n",
        " 'chr4_gl000194_random': [(55410, 55617),\n",
        "  (58440, 58762),\n",
        "  (68614, 69153),\n",
        "  (72887, 73146),\n",
        "  (73441, 73652)],\n",
        " 'chr5': [(50805, 51899), (53111, 54264), (83428, 85530), (92007, 92438)],\n",
        " 'chr6_apd_hap1': [(57270, 57539), (85258, 85703)],\n",
        " 'chr6_cox_hap2': [(77067, 77328)],\n",
        " 'chr6_dbb_hap3': [(57270, 57539), (85267, 85712)],\n",
        " 'chr6_mann_hap4': [(57270, 57539), (85258, 85703)],\n",
        " 'chr6_mcf_hap5': [(57270, 57539), (85258, 85703)],\n",
        " 'chr6_qbl_hap6': [(57270, 57539), (85258, 85703)],\n",
        " 'chr6_ssto_hap7': [(94719, 94988)],\n",
        " 'chr7': [(31003, 31442), (82324, 82592)],\n",
        " 'chr8': [(32411, 33494)],\n",
        " 'chr8_gl000197_random': [(14224, 17160), (21703, 21907)],\n",
        " 'chr9': [(28849, 29588), (72960, 73877)],\n",
        " 'chr9_gl000199_random': [(27285, 27531)],\n",
        " 'chr9_gl000201_random': [(2602, 2871),\n",
        "  (9210, 9476),\n",
        "  (10630, 11193),\n",
        "  (15650, 15909),\n",
        "  (26396, 26873)],\n",
        " 'chrUn_gl000211': [(52677, 53053), (98909, 99168)],\n",
        " 'chrUn_gl000212': [(61216, 65856)],\n",
        " 'chrUn_gl000213': [(25398, 26226),\n",
        "  (44058, 44831),\n",
        "  (51795, 53074),\n",
        "  (68540, 68926),\n",
        "  (83026, 83713),\n",
        "  (85680, 85973)],\n",
        " 'chrUn_gl000214': [(30337, 30677)],\n",
        " 'chrUn_gl000215': [(7838, 8131),\n",
        "  (10090, 10710),\n",
        "  (24305, 24539),\n",
        "  (24869, 25255),\n",
        "  (40725, 42004),\n",
        "  (48943, 49716),\n",
        "  (67655, 68483)],\n",
        " 'chrUn_gl000216': [(94153, 95233)],\n",
        " 'chrUn_gl000218': [(40606, 40813),\n",
        "  (41110, 41354),\n",
        "  (43671, 44006),\n",
        "  (54076, 54340),\n",
        "  (58163, 58820),\n",
        "  (97116, 97472)],\n",
        " 'chrUn_gl000219': [(16027, 16242),\n",
        "  (22189, 22614),\n",
        "  (44403, 44646),\n",
        "  (99165, 100060)],\n",
        " 'chrUn_gl000220': [(96239, 97023)],\n",
        " 'chrUn_gl000221': [(79752, 80055)],\n",
        " 'chrUn_gl000222': [(80873, 81488),\n",
        "  (83631, 84674),\n",
        "  (94589, 95164),\n",
        "  (97727, 98216)],\n",
        " 'chrUn_gl000223': [(24851, 25960), (68139, 68899)],\n",
        " 'chrUn_gl000225': [(1399, 1676),\n",
        "  (22693, 23138),\n",
        "  (23423, 23727),\n",
        "  (30301, 31388),\n",
        "  (36624, 37683),\n",
        "  (52895, 53849),\n",
        "  (58131, 58684),\n",
        "  (63934, 64944),\n",
        "  (72266, 72796),\n",
        "  (78736, 79009),\n",
        "  (79226, 79823)],\n",
        " 'chrUn_gl000228': [(19744, 20819),\n",
        "  (21928, 22670),\n",
        "  (22829, 23096),\n",
        "  (24067, 24412),\n",
        "  (26563, 28727),\n",
        "  (43029, 43996),\n",
        "  (46096, 46674),\n",
        "  (70214, 114054)],\n",
        " 'chrUn_gl000229': [(16199, 18161)],\n",
        " 'chrUn_gl000231': [(12877, 13136),\n",
        "  (14908, 15394),\n",
        "  (18981, 19263),\n",
        "  (25385, 25598)],\n",
        " 'chrUn_gl000235': [(1939, 2345)],\n",
        " 'chrUn_gl000236': [(39355, 40415)],\n",
        " 'chrUn_gl000237': [(10507, 10819)],\n",
        " 'chrUn_gl000240': [(39224, 39430)],\n",
        " 'chrUn_gl000241': [(36461, 37273)],\n",
        " 'chrUn_gl000242': [(12842, 13099)],\n",
        " 'chrUn_gl000243': [(30419, 30715)],\n",
        " 'chrX': [(64181, 64793), (69133, 70029)],\n",
        " 'chrY': [(14181, 14793), (19133, 20029), (98685, 99461)]}"
       ]
      }
     ],
     "prompt_number": 26
    },
    {
     "cell_type": "markdown",
     "metadata": {},
     "source": [
      "#### Exerc\u00edcio\n",
      "\n",
      "Visualizar com a matplotlib o genoma."
     ]
    },
    {
     "cell_type": "code",
     "collapsed": false,
     "input": [
      "%pylab inline"
     ],
     "language": "python",
     "metadata": {},
     "outputs": [
      {
       "output_type": "stream",
       "stream": "stdout",
       "text": [
        "Populating the interactive namespace from numpy and matplotlib\n"
       ]
      }
     ],
     "prompt_number": 27
    },
    {
     "cell_type": "code",
     "collapsed": false,
     "input": [
      "import matplotlib.pyplot as plt\n",
      "\n",
      "x = np.arange(0, 5, 0.1);\n",
      "y = np.sin(x)\n",
      "plt.plot(x, y)"
     ],
     "language": "python",
     "metadata": {},
     "outputs": [
      {
       "metadata": {},
       "output_type": "pyout",
       "prompt_number": 28,
       "text": [
        "[<matplotlib.lines.Line2D at 0x4414c90>]"
       ]
      },
      {
       "metadata": {},
       "output_type": "display_data",
       "png": "[encoded data removed]",
       "text": [
        "<matplotlib.figure.Figure at 0x42d4910>"
       ]
      }
     ],
     "prompt_number": 28
    },
    {
     "cell_type": "markdown",
     "metadata": {},
     "source": [
      "## Op\u00e7\u00f5es\n",
      "\n",
      "- alpha: http://matplotlib.org/api/artist_api.html#matplotlib.artist.Artist.set_alpha\n",
      "- color: http://matplotlib.org/api/lines_api.html#matplotlib.lines.Line2D.set_color\n",
      "- gid: http://matplotlib.org/api/artist_api.html#matplotlib.artist.Artist.set_gid\n",
      "- linestyle: http://matplotlib.org/api/lines_api.html#matplotlib.lines.Line2D.set_linestyle\n",
      "\n",
      "  e.g. '-', '--', '-.', ':', 'None', ' ', ''\n",
      "- linewidth: http://matplotlib.org/api/lines_api.html#matplotlib.lines.Line2D.set_linewidth\n",
      "- marker: http://matplotlib.org/api/lines_api.html#matplotlib.lines.Line2D.set_marker"
     ]
    },
    {
     "cell_type": "code",
     "collapsed": false,
     "input": [
      "plt.plot()"
     ],
     "language": "python",
     "metadata": {},
     "outputs": [
      {
       "metadata": {},
       "output_type": "pyout",
       "prompt_number": 29,
       "text": [
        "[]"
       ]
      },
      {
       "metadata": {},
       "output_type": "display_data",
       "png": "[encoded data removed]",
       "text": [
        "<matplotlib.figure.Figure at 0x4414d90>"
       ]
      }
     ],
     "prompt_number": 29
    },
    {
     "cell_type": "markdown",
     "metadata": {},
     "source": [
      "## pyplot\n",
      "\n",
      "Documenta\u00e7\u00e3o: http://matplotlib.org/api/pyplot_api.html\n",
      "\n",
      "### Linhas\n",
      "\n",
      "- axhline: http://matplotlib.org/api/pyplot_api.html#matplotlib.pyplot.axhline\n",
      "\n",
      "  `axhline(y=0, xmin=0, xmax=1, hold=None, **kwargs)`\n",
      "- axvline: http://matplotlib.org/api/pyplot_api.html#matplotlib.pyplot.axvline\n",
      "\n",
      "  `axvline(x=0, ymin=0, ymax=1, hold=None, **kwargs)`\n",
      "\n",
      "### Ret\u00e2ngulos\n",
      "\n",
      "- axhspan: http://matplotlib.org/api/pyplot_api.html#matplotlib.pyplot.axhspan\n",
      "\n",
      "  `axhspan(ymin, ymax, xmin=0, xmax=1, hold=None, **kwargs)`\n",
      "- axvspan: http://matplotlib.org/api/pyplot_api.html#matplotlib.pyplot.axvspan\n",
      "\n",
      "  `axvspan(xmin, xmax, ymin=0, ymax=1, hold=None, **kwargs)`"
     ]
    },
    {
     "cell_type": "code",
     "collapsed": false,
     "input": [
      "plt.plot()\n",
      "axhline(y=.5, xmin=0.25, xmax=0.75)"
     ],
     "language": "python",
     "metadata": {},
     "outputs": [
      {
       "metadata": {},
       "output_type": "pyout",
       "prompt_number": 30,
       "text": [
        "<matplotlib.lines.Line2D at 0x467ff90>"
       ]
      },
      {
       "metadata": {},
       "output_type": "display_data",
       "png": "[encoded data removed]",
       "text": [
        "<matplotlib.figure.Figure at 0x443eb90>"
       ]
      }
     ],
     "prompt_number": 30
    },
    {
     "cell_type": "code",
     "collapsed": false,
     "input": [
      "plt.plot()\n",
      "axvline(x=.5, ymin=0.25, ymax=0.75)"
     ],
     "language": "python",
     "metadata": {},
     "outputs": [
      {
       "metadata": {},
       "output_type": "pyout",
       "prompt_number": 31,
       "text": [
        "<matplotlib.lines.Line2D at 0x44418d0>"
       ]
      },
      {
       "metadata": {},
       "output_type": "display_data",
       "png": "[encoded data removed]",
       "text": [
        "<matplotlib.figure.Figure at 0x4666b10>"
       ]
      }
     ],
     "prompt_number": 31
    },
    {
     "cell_type": "code",
     "collapsed": false,
     "input": [
      "plt.plot()\n",
      "axhspan(0.25, 0.75, facecolor='0.5', alpha=0.5)"
     ],
     "language": "python",
     "metadata": {},
     "outputs": [
      {
       "metadata": {},
       "output_type": "pyout",
       "prompt_number": 32,
       "text": [
        "<matplotlib.patches.Polygon at 0x7fa4e4216350>"
       ]
      },
      {
       "metadata": {},
       "output_type": "display_data",
       "png": "[encoded data removed]",
       "text": [
        "<matplotlib.figure.Figure at 0x443e690>"
       ]
      }
     ],
     "prompt_number": 32
    },
    {
     "cell_type": "code",
     "collapsed": false,
     "input": [
      "plt.plot()\n",
      "axvspan(1.25, 1.55, facecolor='g', alpha=0.5)"
     ],
     "language": "python",
     "metadata": {},
     "outputs": [
      {
       "metadata": {},
       "output_type": "pyout",
       "prompt_number": 33,
       "text": [
        "<matplotlib.patches.Polygon at 0x487d390>"
       ]
      },
      {
       "metadata": {},
       "output_type": "display_data",
       "png": "[encoded data removed]",
       "text": [
        "<matplotlib.figure.Figure at 0x7fa4e41fd910>"
       ]
      }
     ],
     "prompt_number": 33
    },
    {
     "cell_type": "code",
     "collapsed": false,
     "input": [
      "def visualize_chromosome(nome_do_arquivo, limite):\n",
      "    plt.plot()\n",
      "    \n",
      "    chromosomes = get_chromosome(nome_do_arquivo, limite)\n",
      "    for chromosome in chromosomes:\n",
      "        for i in chromosomes[chromosome]:\n",
      "            axvspan(i[0], i[1], color='red')  \n",
      "    \n",
      "visualize_chromosome(\"bedtools-example/data/cpg.bed\", 10e4)"
     ],
     "language": "python",
     "metadata": {},
     "outputs": [
      {
       "metadata": {},
       "output_type": "display_data",
       "png": "[encoded data removed]",
       "text": [
        "<matplotlib.figure.Figure at 0x4439b50>"
       ]
      }
     ],
     "prompt_number": 35
    }
   ],
   "metadata": {}
  }
 ]
}